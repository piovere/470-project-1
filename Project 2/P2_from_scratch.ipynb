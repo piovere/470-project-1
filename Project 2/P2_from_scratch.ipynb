{
 "cells": [
  {
   "cell_type": "code",
   "execution_count": 16,
   "metadata": {
    "collapsed": true
   },
   "outputs": [],
   "source": [
    "%matplotlib inline\n",
    "import numpy as np\n",
    "import numpy.linalg as la\n",
    "from __future__ import division\n",
    "import matplotlib.pyplot as plt"
   ]
  },
  {
   "cell_type": "markdown",
   "metadata": {},
   "source": [
    "# Constants"
   ]
  },
  {
   "cell_type": "code",
   "execution_count": 2,
   "metadata": {
    "collapsed": true
   },
   "outputs": [],
   "source": [
    "sigma_tr = 3.62e-2\n",
    "nusig = 0.1570\n",
    "sigma_a = 0.1532\n",
    "d = 1. / (3. * sigma_tr)"
   ]
  },
  {
   "cell_type": "code",
   "execution_count": 3,
   "metadata": {
    "collapsed": true
   },
   "outputs": [],
   "source": [
    "nodes = 10.\n",
    "width = 10."
   ]
  },
  {
   "cell_type": "code",
   "execution_count": 4,
   "metadata": {
    "collapsed": false
   },
   "outputs": [
    {
     "data": {
      "text/plain": [
       "array([ 1.,  1.,  1.,  1.,  1.])"
      ]
     },
     "execution_count": 4,
     "metadata": {},
     "output_type": "execute_result"
    }
   ],
   "source": [
    "np.ones(5)"
   ]
  },
  {
   "cell_type": "code",
   "execution_count": 5,
   "metadata": {
    "collapsed": false
   },
   "outputs": [
    {
     "data": {
      "text/plain": [
       "array([ 12.23607293,  12.23607293,  12.23607293,  12.23607293,  12.23607293])"
      ]
     },
     "execution_count": 5,
     "metadata": {},
     "output_type": "execute_result"
    }
   ],
   "source": [
    "dx = (width / (nodes - 1)) ** 2\n",
    "np.ones(5) * (sigma_a + 2. * d / dx ** 2)"
   ]
  },
  {
   "cell_type": "markdown",
   "metadata": {},
   "source": [
    "# Matrix Setter"
   ]
  },
  {
   "cell_type": "code",
   "execution_count": 6,
   "metadata": {
    "collapsed": true
   },
   "outputs": [],
   "source": [
    "def matrix(nodes, width, absorption=0.1532, transfer=3.62e-2):\n",
    "    sections = nodes - 1\n",
    "    dx = width / sections\n",
    "    \n",
    "    diffusion = 1. / (3. * transfer)\n",
    "    \n",
    "    diag_val = (absorption + 2. * diffusion / dx ** 2)\n",
    "    offdiag_val = (- diffusion / dx ** 2)\n",
    "    \n",
    "    diag = np.ones(sections) * diag_val\n",
    "    offdiag = np.ones(sections - 1) * offdiag_val\n",
    "    \n",
    "    mat = np.diag(diag, 0) + np.diag(offdiag, -1) + np.diag(offdiag, 1)\n",
    "    mat[0,0] = 0.5 * diag_val\n",
    "    \n",
    "    return mat"
   ]
  },
  {
   "cell_type": "code",
   "execution_count": 7,
   "metadata": {
    "collapsed": false
   },
   "outputs": [
    {
     "data": {
      "text/plain": [
       "array([[ 0.08630664, -0.00970664,  0.        ,  0.        ,  0.        ],\n",
       "       [-0.00970664,  0.17261327, -0.00970664,  0.        ,  0.        ],\n",
       "       [ 0.        , -0.00970664,  0.17261327, -0.00970664,  0.        ],\n",
       "       [ 0.        ,  0.        , -0.00970664,  0.17261327, -0.00970664],\n",
       "       [ 0.        ,  0.        ,  0.        , -0.00970664,  0.17261327]])"
      ]
     },
     "execution_count": 7,
     "metadata": {},
     "output_type": "execute_result"
    }
   ],
   "source": [
    "matrix(6, 154)"
   ]
  },
  {
   "cell_type": "markdown",
   "metadata": {},
   "source": [
    "# Flux and k eigenvector/eigenvalue solver"
   ]
  },
  {
   "cell_type": "markdown",
   "metadata": {},
   "source": [
    "Solve for eigenvalue (flux) and eigenvector of the matrix using [Power iteration](https://en.wikipedia.org/wiki/Power_iteration) method"
   ]
  },
  {
   "cell_type": "code",
   "execution_count": 73,
   "metadata": {
    "collapsed": true
   },
   "outputs": [],
   "source": [
    "def power(nodes, width, nusig=0.1570, absorption=0.1532, transfer=3.62e-2, min_error=0.00001, max_iterations=1e5):\n",
    "    flux = np.ones(nodes-1) * 100.\n",
    "    k_eff = 1.0\n",
    "    flux_old = np.ones(nodes-1) * 100.\n",
    "    k_eff_old = 1.0\n",
    "    \n",
    "    flux_error = 1.0\n",
    "    k_eff_error = 1.0\n",
    "    \n",
    "    iterations = 0\n",
    "    \n",
    "    source = np.ones_like(flux) * nusig\n",
    "    source[0] = source[0] * 0.5\n",
    "    \n",
    "    mat = matrix(nodes, width, absorption, transfer)\n",
    "    \n",
    "    while ((flux_error > min_error) or (k_eff_error > min_error)) and (iterations < max_iterations):\n",
    "        # iterate generations\n",
    "        iterations += 1\n",
    "        \n",
    "        flux = la.solve(mat, np.multiply(flux, source) / k_eff)\n",
    "        \n",
    "        # solve for eigenvalue\n",
    "        k_eff = k_eff_old * la.norm(np.multiply(flux, source)) / la.norm(np.multiply(flux_old, source))\n",
    "        \n",
    "        # flux = flux / la.norm(flux)\n",
    "        \n",
    "        flux_error = np.amax(abs((np.multiply(flux, source) - np.multiply(flux_old, source)) / np.multiply(flux, source)))\n",
    "        k_eff_error = (abs((k_eff - k_eff_old) / k_eff))\n",
    "        \n",
    "        k_eff_old = k_eff\n",
    "        flux_old = flux\n",
    "        \n",
    "        if (iterations % 10000 == 0):\n",
    "            print flux_error\n",
    "    \n",
    "    return flux, k_eff, flux_error, k_eff_error, iterations"
   ]
  },
  {
   "cell_type": "markdown",
   "metadata": {},
   "source": [
    "# Critical Width Search"
   ]
  },
  {
   "cell_type": "markdown",
   "metadata": {},
   "source": [
    "Calculated as $$ \\tilde{a} = \\pi \\sqrt{ \\frac{D}{\\nu \\Sigma_f - \\Sigma_a} } $$"
   ]
  },
  {
   "cell_type": "code",
   "execution_count": 118,
   "metadata": {
    "collapsed": false
   },
   "outputs": [
    {
     "data": {
      "text/plain": [
       "154.64759189932184"
      ]
     },
     "execution_count": 118,
     "metadata": {},
     "output_type": "execute_result"
    }
   ],
   "source": [
    "analytic_critical_width = np.pi * (d / (nusig - sigma_a)) ** 0.5\n",
    "analytic_critical_width"
   ]
  },
  {
   "cell_type": "code",
   "execution_count": 119,
   "metadata": {
    "collapsed": false
   },
   "outputs": [
    {
     "data": {
      "image/png": "[encoded data removed]",
      "text/plain": [
       "<matplotlib.figure.Figure at 0x7fc1f306ed10>"
      ]
     },
     "metadata": {},
     "output_type": "display_data"
    }
   ],
   "source": [
    "w = np.linspace(1., 200., 1000.)\n",
    "plt.plot(w, [power(10, x)[1] for x in w])\n",
    "plt.plot(w, [1. for x in w], 'r--')\n",
    "# plt.xscale(\"log\")\n",
    "plt.axvline(analytic_critical_width / 2, color='r', linestyle='--')\n",
    "plt.title(r'$k_{eff}$ vs. width')\n",
    "plt.show()"
   ]
  },
  {
   "cell_type": "code",
   "execution_count": 116,
   "metadata": {
    "collapsed": true
   },
   "outputs": [],
   "source": [
    "def critical_width(nodes, width):\n",
    "    return True"
   ]
  },
  {
   "cell_type": "code",
   "execution_count": null,
   "metadata": {
    "collapsed": true
   },
   "outputs": [],
   "source": []
  }
 ],
 "metadata": {
  "anaconda-cloud": {},
  "kernelspec": {
   "display_name": "Python [conda env:nuc]",
   "language": "python",
   "name": "conda-env-nuc-py"
  },
  "language_info": {
   "codemirror_mode": {
    "name": "ipython",
    "version": 2
   },
   "file_extension": ".py",
   "mimetype": "text/x-python",
   "name": "python",
   "nbconvert_exporter": "python",
   "pygments_lexer": "ipython2",
   "version": "2.7.12"
  }
 },
 "nbformat": 4,
 "nbformat_minor": 1
}
