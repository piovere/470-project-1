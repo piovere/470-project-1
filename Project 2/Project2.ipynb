{
 "cells": [
  {
   "cell_type": "markdown",
   "metadata": {},
   "source": [
    "# Project 2 #"
   ]
  },
  {
   "cell_type": "code",
   "execution_count": 23,
   "metadata": {
    "collapsed": true
   },
   "outputs": [],
   "source": [
    "import numpy as np\n",
    "from numpy import linalg as la"
   ]
  },
  {
   "cell_type": "code",
   "execution_count": 24,
   "metadata": {
    "collapsed": true
   },
   "outputs": [],
   "source": [
    "data72 = np.loadtxt(\"72.dat\")\n",
    "data10 = np.loadtxt(\"10w4.92504.dat\")\n",
    "data1000 = np.loadtxt(\"1000w5.170166.dat\")\n",
    "data500 = np.loadtxt(\"500w5.168294156.dat\")"
   ]
  },
  {
   "cell_type": "code",
   "execution_count": 25,
   "metadata": {
    "collapsed": true
   },
   "outputs": [],
   "source": [
    "%matplotlib inline\n",
    "import matplotlib.pyplot as plt"
   ]
  },
  {
   "cell_type": "code",
   "execution_count": 26,
   "metadata": {
    "collapsed": false
   },
   "outputs": [
    {
     "data": {
      "image/png": "[encoded data removed]",
      "text/plain": [
       "<matplotlib.figure.Figure at 0x11b26f590>"
      ]
     },
     "metadata": {},
     "output_type": "display_data"
    }
   ],
   "source": [
    "f = plt.figure()\n",
    "f.set_size_inches(10, 6)\n",
    "plt.plot(np.linspace(0, 5.1404617072414336, 72), data72, label=\"72 Nodes\")\n",
    "plt.plot(np.linspace(0, 4.9250459456244462, 10), data10, label=\"10 Nodes\")\n",
    "plt.plot(np.linspace(0, 5.1682941567744694, 500), data500, label=\"500 Nodes\")\n",
    "plt.plot(np.linspace(0, 5.1701668365492006, 1000), data1000, '--', label=r'$10^3$ Nodes')\n",
    "plt.xlabel(\"Width\")\n",
    "plt.ylabel(\"Flux\")\n",
    "plt.title(\"Flux Distribution vs. Number of Nodes for Critical Width\")\n",
    "plt.legend(loc=1)\n",
    "plt.savefig('flux distribution vs number of nodes.png', format='png', dpi=1000)\n",
    "plt.show()"
   ]
  },
  {
   "cell_type": "code",
   "execution_count": 27,
   "metadata": {
    "collapsed": true
   },
   "outputs": [],
   "source": [
    "def set_matrix(nodes=5, D=9.0, sigma_a=0.15, w=10.):\n",
    "    n = nodes - 1\n",
    "    dx = w / n\n",
    "    offdiag = -D / dx**2\n",
    "    matrix = np.eye(n) * (sigma_a + 2. * D / dx**2)\n",
    "    matrix[0][0] = 0.5 * sigma_a + D / dx**2\n",
    "    for i in range(n)[1:-1]:\n",
    "        matrix[i][i-1] = offdiag\n",
    "        matrix[i][i+1] = offdiag\n",
    "    matrix[0][1] = offdiag\n",
    "    matrix[n-1][n-2] = offdiag\n",
    "    \n",
    "    nusig = 0.157\n",
    "    S = np.resize(np.array([nusig]), (n))\n",
    "    S[0] = S[0] * 0.5\n",
    "    \n",
    "    return (matrix, S)"
   ]
  },
  {
   "cell_type": "code",
   "execution_count": 28,
   "metadata": {
    "collapsed": true
   },
   "outputs": [],
   "source": [
    "nodes = 5"
   ]
  },
  {
   "cell_type": "code",
   "execution_count": 29,
   "metadata": {
    "collapsed": true
   },
   "outputs": [],
   "source": [
    "k = 1."
   ]
  },
  {
   "cell_type": "code",
   "execution_count": 30,
   "metadata": {
    "collapsed": false
   },
   "outputs": [],
   "source": [
    "A, S = set_matrix(nodes=nodes, w=5.14)"
   ]
  },
  {
   "cell_type": "code",
   "execution_count": 31,
   "metadata": {
    "collapsed": false
   },
   "outputs": [
    {
     "data": {
      "text/plain": [
       "array([ 0.20261459,  0.02815833,  0.01214208,  0.00809371])"
      ]
     },
     "execution_count": 31,
     "metadata": {},
     "output_type": "execute_result"
    }
   ],
   "source": [
    "np.linalg.eigvals(A)**-1 * 0.157"
   ]
  },
  {
   "cell_type": "code",
   "execution_count": 32,
   "metadata": {
    "collapsed": false
   },
   "outputs": [
    {
     "data": {
      "text/plain": [
       "(array([  0.77487017,   5.57561406,  12.9302386 ,  19.39776927]),\n",
       " array([[ 0.66083566, -0.57467808, -0.42618944, -0.22672427],\n",
       "        [ 0.57598119,  0.00528394,  0.57899688,  0.5770445 ],\n",
       "        [ 0.4250936 ,  0.57998615,  0.22656099, -0.65694871],\n",
       "        [ 0.22547134,  0.5773502 , -0.65711132,  0.428992  ]]))"
      ]
     },
     "execution_count": 32,
     "metadata": {},
     "output_type": "execute_result"
    }
   ],
   "source": [
    "np.linalg.eig(A)"
   ]
  },
  {
   "cell_type": "code",
   "execution_count": 33,
   "metadata": {
    "collapsed": false
   },
   "outputs": [
    {
     "data": {
      "text/plain": [
       "array([ 10.,  10.,  10.,  10.])"
      ]
     },
     "execution_count": 33,
     "metadata": {},
     "output_type": "execute_result"
    }
   ],
   "source": [
    "b = np.resize(np.array([10.]), (nodes-1))\n",
    "b"
   ]
  },
  {
   "cell_type": "code",
   "execution_count": 34,
   "metadata": {
    "collapsed": true
   },
   "outputs": [],
   "source": [
    "k_error = 1.0\n",
    "b_error = 1.0"
   ]
  },
  {
   "cell_type": "code",
   "execution_count": 35,
   "metadata": {
    "collapsed": true
   },
   "outputs": [],
   "source": [
    "min_error = 0.001\n",
    "num_iterations = 0"
   ]
  },
  {
   "cell_type": "code",
   "execution_count": 36,
   "metadata": {
    "collapsed": false
   },
   "outputs": [
    {
     "name": "stderr",
     "output_type": "stream",
     "text": [
      "/Users/jrpowers-luhn/miniconda3/envs/nuc/lib/python2.7/site-packages/ipykernel/__main__.py:13: RuntimeWarning: divide by zero encountered in double_scalars\n",
      "/Users/jrpowers-luhn/miniconda3/envs/nuc/lib/python2.7/site-packages/ipykernel/__main__.py:15: RuntimeWarning: invalid value encountered in double_scalars\n"
     ]
    }
   ],
   "source": [
    "while k_error > min_error or b_error > min_error:\n",
    "    b = np.multiply(b, S) * k**-1\n",
    "    \n",
    "    b_old = b\n",
    "    k_old = k\n",
    "    \n",
    "    # b = np.dot(np.linalg.inv(A), b) * k\n",
    "    b = la.solve(A, b * k)\n",
    "    \n",
    "    m = np.dot(b, b)**0.5\n",
    "    m_old = np.dot(b_old, b_old)**0.5\n",
    "    \n",
    "    k = m / m_old\n",
    "    \n",
    "    k_error = (k - k_old) / k\n",
    "    \n",
    "    b_error = np.linalg.norm(b - b_old) / (nodes - 1)\n",
    "    \n",
    "    num_iterations += 1"
   ]
  },
  {
   "cell_type": "code",
   "execution_count": 37,
   "metadata": {
    "collapsed": false
   },
   "outputs": [
    {
     "data": {
      "text/plain": [
       "array([  9.57605864e-147,   8.84712458e-147,   6.77129600e-147,\n",
       "         3.66459899e-147])"
      ]
     },
     "execution_count": 37,
     "metadata": {},
     "output_type": "execute_result"
    }
   ],
   "source": [
    "b"
   ]
  },
  {
   "cell_type": "code",
   "execution_count": 38,
   "metadata": {
    "collapsed": false
   },
   "outputs": [
    {
     "data": {
      "text/plain": [
       "array([  6.71263206e-163,   1.24033267e-162,   9.49309530e-163,\n",
       "         5.13762615e-163])"
      ]
     },
     "execution_count": 38,
     "metadata": {},
     "output_type": "execute_result"
    }
   ],
   "source": [
    "b_old"
   ]
  },
  {
   "cell_type": "code",
   "execution_count": 39,
   "metadata": {
    "collapsed": false
   },
   "outputs": [
    {
     "data": {
      "text/plain": [
       "nan"
      ]
     },
     "execution_count": 39,
     "metadata": {},
     "output_type": "execute_result"
    }
   ],
   "source": [
    "k_error"
   ]
  },
  {
   "cell_type": "code",
   "execution_count": 40,
   "metadata": {
    "collapsed": false
   },
   "outputs": [
    {
     "data": {
      "text/plain": [
       "3.785269540493542e-147"
      ]
     },
     "execution_count": 40,
     "metadata": {},
     "output_type": "execute_result"
    }
   ],
   "source": [
    "b_error"
   ]
  },
  {
   "cell_type": "code",
   "execution_count": 41,
   "metadata": {
    "collapsed": false
   },
   "outputs": [
    {
     "data": {
      "text/plain": [
       "array([[  5.52549887,  -5.45049887,   0.        ,   0.        ],\n",
       "       [ -5.45049887,  11.05099774,  -5.45049887,   0.        ],\n",
       "       [  0.        ,  -5.45049887,  11.05099774,  -5.45049887],\n",
       "       [  0.        ,   0.        ,  -5.45049887,  11.05099774]])"
      ]
     },
     "execution_count": 41,
     "metadata": {},
     "output_type": "execute_result"
    }
   ],
   "source": [
    "A"
   ]
  },
  {
   "cell_type": "code",
   "execution_count": null,
   "metadata": {
    "collapsed": true
   },
   "outputs": [],
   "source": []
  }
 ],
 "metadata": {
  "anaconda-cloud": {},
  "kernelspec": {
   "display_name": "Python [conda env:nuc]",
   "language": "python",
   "name": "conda-env-nuc-py"
  },
  "language_info": {
   "codemirror_mode": {
    "name": "ipython",
    "version": 2
   },
   "file_extension": ".py",
   "mimetype": "text/x-python",
   "name": "python",
   "nbconvert_exporter": "python",
   "pygments_lexer": "ipython2",
   "version": "2.7.12"
  },
  "latex_envs": {
   "bibliofile": "biblio.bib",
   "cite_by": "apalike",
   "current_citInitial": 1,
   "eqLabelWithNumbers": true,
   "eqNumInitial": 0
  }
 },
 "nbformat": 4,
 "nbformat_minor": 1
}
