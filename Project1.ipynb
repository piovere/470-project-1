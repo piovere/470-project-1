{
 "cells": [
  {
   "cell_type": "code",
   "execution_count": 29,
   "metadata": {
    "collapsed": true
   },
   "outputs": [],
   "source": [
    "from numpy.linalg import inv, solve\n",
    "from numpy import zeros, dot, array, append\n",
    "import numpy as np"
   ]
  },
  {
   "cell_type": "code",
   "execution_count": 3,
   "metadata": {
    "collapsed": false
   },
   "outputs": [],
   "source": [
    "def set_matrix(nodes=5, geometry=\"cartesian\", D=9.0, w=10.0, sigma=0.15):\n",
    "    deltaX = w / (nodes - 1.0)\n",
    "    n = nodes - 1\n",
    "    \n",
    "    matrix = zeros((n,n))\n",
    "    if geometry == \"cartesian\":\n",
    "        matrix[0][0] = D / deltaX ** 2.0 + 0.5 * sigma\n",
    "        matrix[0][1] = -1.0 * D / deltaX ** 2.0\n",
    "        for i in range(1, n-1):\n",
    "            matrix[i][i] = 2 * D / deltaX ** 2 + sigma\n",
    "            matrix[i][i-1] = -1.0 * D / deltaX ** 2\n",
    "            matrix[i][i+1] = -1.0 * D / deltaX ** 2\n",
    "        matrix[n-1][n-1] = 2 * D / deltaX ** 2.0 + sigma\n",
    "        matrix[n-1][n-2] = -1.0 * D / deltaX ** 2.0\n",
    "\n",
    "    return matrix"
   ]
  },
  {
   "cell_type": "code",
   "execution_count": 45,
   "metadata": {
    "collapsed": true
   },
   "outputs": [],
   "source": [
    "def flux(nodes=5, geometry=\"cartesian\", D=9.0, w=10.0, sigma=0.15):\n",
    "    n = nodes - 1\n",
    "    A = set_matrix(nodes=nodes, geometry=geometry, D=D, w=w, sigma=sigma)\n",
    "    S_vector = zeros(n)\n",
    "    S = 10.0 ** 8\n",
    "    S_vector[0] = S / (2.0 * w / n)\n",
    "    \n",
    "    return append(dot(inv(A), S_vector), 0.0)"
   ]
  },
  {
   "cell_type": "code",
   "execution_count": 46,
   "metadata": {
    "collapsed": true
   },
   "outputs": [],
   "source": [
    "%matplotlib inline"
   ]
  },
  {
   "cell_type": "code",
   "execution_count": 47,
   "metadata": {
    "collapsed": true
   },
   "outputs": [],
   "source": [
    "import matplotlib.pyplot as plt"
   ]
  },
  {
   "cell_type": "code",
   "execution_count": 61,
   "metadata": {
    "collapsed": false
   },
   "outputs": [
    {
     "data": {
      "image/png": "[encoded data removed]",
      "text/plain": [
       "<matplotlib.figure.Figure at 0x10dba74d0>"
      ]
     },
     "metadata": {},
     "output_type": "display_data"
    }
   ],
   "source": [
    "W = 100\n",
    "def x(n):\n",
    "    return np.linspace(0, W, n)\n",
    "\n",
    "plt.figure(1)\n",
    "\n",
    "plt.subplot(111)\n",
    "plt.plot(x(5), flux(nodes=5, w=W), 'b', label=\"n=5\")\n",
    "plt.plot(x(100), flux(nodes=100, w=W), 'r', label=\"n=100\")\n",
    "# plt.plot(x(1000), flux(nodes=1000, w=W), 'g', label=\"n=1000\")\n",
    "plt.legend(loc='upper right')\n",
    "plt.ylabel('Flux (#/second)')\n",
    "plt.xlabel('Distance')\n",
    "\n",
    "plt.show()"
   ]
  },
  {
   "cell_type": "code",
   "execution_count": null,
   "metadata": {
    "collapsed": true
   },
   "outputs": [],
   "source": []
  }
 ],
 "metadata": {
  "anaconda-cloud": {},
  "kernelspec": {
   "display_name": "Python [conda env:nuc]",
   "language": "python",
   "name": "conda-env-nuc-py"
  },
  "language_info": {
   "codemirror_mode": {
    "name": "ipython",
    "version": 2
   },
   "file_extension": ".py",
   "mimetype": "text/x-python",
   "name": "python",
   "nbconvert_exporter": "python",
   "pygments_lexer": "ipython2",
   "version": "2.7.12"
  },
  "latex_envs": {
   "bibliofile": "biblio.bib",
   "cite_by": "apalike",
   "current_citInitial": 1,
   "eqLabelWithNumbers": true,
   "eqNumInitial": 0
  }
 },
 "nbformat": 4,
 "nbformat_minor": 1
}
