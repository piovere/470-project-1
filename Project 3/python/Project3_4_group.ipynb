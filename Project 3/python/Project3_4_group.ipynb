{
 "cells": [
  {
   "cell_type": "code",
   "execution_count": 126,
   "metadata": {
    "collapsed": true
   },
   "outputs": [],
   "source": [
    "%matplotlib inline\n",
    "import matplotlib.pyplot as plt\n",
    "import numpy as np\n",
    "import numpy.linalg as la\n",
    "import pandas as pd\n",
    "from __future__ import division\n",
    "np.set_printoptions(precision=3)"
   ]
  },
  {
   "cell_type": "markdown",
   "metadata": {},
   "source": [
    "# Define properties"
   ]
  },
  {
   "cell_type": "code",
   "execution_count": 127,
   "metadata": {
    "collapsed": true
   },
   "outputs": [],
   "source": [
    "number_of_groups = 4\n",
    "width = 154\n",
    "fuel_nodes = 4\n",
    "reflector_nodes = 4"
   ]
  },
  {
   "cell_type": "code",
   "execution_count": 128,
   "metadata": {
    "code_folding": [
     0
    ],
    "collapsed": false
   },
   "outputs": [],
   "source": [
    "# Cross sections ordered from lowest energy to highest energy\n",
    "\n",
    "# fission is actually fission * neutrons per fission\n",
    "fuel_fission = np.array([\n",
    "        0.009572,\n",
    "        0.001193,\n",
    "        0.01768,\n",
    "        0.18514\n",
    "    ])\n",
    "\n",
    "fuel_transport = np.array([\n",
    "        1.38741155,\n",
    "        2.76065151,\n",
    "        4.74833808,\n",
    "        8.46740051\n",
    "    ])\n",
    "\n",
    "fuel_scattering = np.array([\n",
    "        [0, 0.083004, 0,      0      ],\n",
    "        [0, 0,        0.0584, 0      ],\n",
    "        [0, 0,        0,      0.06453],\n",
    "        [0, 0,        0,      0      ]\n",
    "    ])\n",
    "\n",
    "fuel_absorption = np.array([\n",
    "        0.004946,\n",
    "        0.002840,\n",
    "        0.03053,\n",
    "        0.1210\n",
    "    ])\n",
    "\n",
    "fuel_removal = np.array([\n",
    "        0.08795,\n",
    "        0.06124,\n",
    "        0.09506,\n",
    "        0.1210\n",
    "    ])\n",
    "\n",
    "# Not a cross section. 1 / (3 sigma_tr)\n",
    "fuel_diffusion = np.array([\n",
    "        2.1623,\n",
    "        1.0867,\n",
    "        0.6318,\n",
    "        0.3543\n",
    "    ])\n",
    "\n",
    "# Fraction of fission neutrons born into each group\n",
    "fuel_chi = np.array([\n",
    "        1.,\n",
    "        0.,\n",
    "        0.,\n",
    "        0.\n",
    "    ])"
   ]
  },
  {
   "cell_type": "code",
   "execution_count": 129,
   "metadata": {
    "code_folding": [
     0
    ],
    "collapsed": true
   },
   "outputs": [],
   "source": [
    "# Reflector properties\n",
    "\n",
    "reflector_fission = np.array([\n",
    "        0, 0, 0, 0\n",
    "    ])\n",
    "\n",
    "reflector_transport = np.array([\n",
    "        0.20608,\n",
    "        0.60215,\n",
    "        0.56830,\n",
    "        1.21110\n",
    "    ])\n",
    "\n",
    "reflector_absorption = np.array([\n",
    "        0.00051,\n",
    "        0.00354,\n",
    "        0.01581,\n",
    "        0.04637\n",
    "    ])\n",
    "\n",
    "reflector_scattering = np.array([\n",
    "        [0.37045, 0.04152, 0.00001, 0.00000],\n",
    "        [0.00000, 0.98285, 0.07459, 0.01371],\n",
    "        [0.00000, 0.00000, 0.76110, 0.31856],\n",
    "        [0.00000, 0.00000, 0.00085, 1.96607]\n",
    "    ])\n",
    "\n",
    "reflector_diffusion = 1 / (3 * reflector_transport)\n",
    "\n",
    "reflector_chi = np.array([\n",
    "        0, 0, 0, 0\n",
    "    ])"
   ]
  },
  {
   "cell_type": "code",
   "execution_count": 156,
   "metadata": {
    "code_folding": [
     0,
     15,
     25,
     35,
     44,
     48,
     57,
     67,
     76,
     85,
     93,
     110,
     114
    ],
    "collapsed": false
   },
   "outputs": [],
   "source": [
    "class Material(object):\n",
    "    \"\"\"Material for a reactor\n",
    "    \"\"\"\n",
    "\n",
    "    def __init__(self, number_of_groups):\n",
    "        self._groups = number_of_groups\n",
    "        self._scattering = np.zeros((number_of_groups, number_of_groups))\n",
    "        self._absorption = np.zeros((number_of_groups))\n",
    "        self._fission = np.zeros((number_of_groups))\n",
    "        self._width = 10.\n",
    "        self._transport = np.zeros((number_of_groups))\n",
    "        self._neutrons_per_fission = 2.43\n",
    "        self._chi = np.zeros((number_of_groups))\n",
    "\n",
    "    @property\n",
    "    def scattering(self):\n",
    "        \"\"\"The scattering cross sections\n",
    "\n",
    "        This should be a (g * g) matrix where the (i,j)th element\n",
    "        is the cross section for scattering from energy group i to\n",
    "        energy group j.\n",
    "        \"\"\"\n",
    "        return self._scattering\n",
    "\n",
    "    @scattering.setter\n",
    "    def scattering(self, matrix):\n",
    "        # Verify that the matrix is g x g\n",
    "        try:\n",
    "            assert matrix.shape == (self._groups, self._groups)\n",
    "        except:\n",
    "            raise TypeError(\"Must have scattering from and to each group\")\n",
    "        \n",
    "        self._scattering = matrix\n",
    "\n",
    "    @property\n",
    "    def fission(self):\n",
    "        \"\"\"The fission cross sections\n",
    "\n",
    "        This should be a length-g array where g is the number\n",
    "        of energy groups.\n",
    "        \"\"\"\n",
    "        return self._fission\n",
    "\n",
    "    @fission.setter\n",
    "    def fission(self, fission):\n",
    "        self._fission = fission\n",
    "\n",
    "    @property\n",
    "    def absorption(self):\n",
    "        \"\"\"Absorption cross sections\n",
    "\n",
    "        This should be a length-g array where g is the number\n",
    "        of energy groups.\n",
    "        \"\"\"\n",
    "        return self._absorption\n",
    "\n",
    "    @absorption.setter\n",
    "    def absorption(self, absorption):\n",
    "        # Verify g groups\n",
    "        try:\n",
    "            assert absorption.shape[0] == (self._groups)\n",
    "        except:\n",
    "            error_string = \"Your value has shape {0}, should have {1}\"\n",
    "            raise TypeError(error_string.format(absorption.shape, (self._groups)))\n",
    "        self._absorption = absorption\n",
    "\n",
    "    @property\n",
    "    def transport(self):\n",
    "        \"\"\"Transport cross sections\n",
    "\n",
    "        This should be a length-g array where g is the number\n",
    "        of energy groups.\n",
    "        \"\"\"\n",
    "        return self._transport\n",
    "\n",
    "    @transport.setter\n",
    "    def transport(self, transport):\n",
    "        try:\n",
    "            assert transport.shape[0] == (self._groups)\n",
    "        except AssertionError:\n",
    "            error_string = \"Your value has shape {0}, should have {1}\"\n",
    "            raise TypeError(error_string.format(transport.shape, (self._groups)))\n",
    "        self._transport = transport\n",
    "\n",
    "    @property\n",
    "    def width(self):\n",
    "        \"\"\"Width\n",
    "\n",
    "        The one-dimensional width of the material in the core.\n",
    "        \"\"\"\n",
    "        return self._width\n",
    "\n",
    "    @width.setter\n",
    "    def width(self, w):\n",
    "        # Width should be a float\n",
    "        try:\n",
    "            assert type(w) == type(7.)\n",
    "        except:\n",
    "            raise TypeError(\"Width should be a float\")\n",
    "        self._width = width\n",
    "    \n",
    "    @property\n",
    "    def neutrons_per_fission(self):\n",
    "        return self._neutrons_per_fission\n",
    "    \n",
    "    @neutrons_per_fission.setter\n",
    "    def neutrons_per_fission(self, nu):\n",
    "        self._neutrons_per_fission = nu\n",
    "    \n",
    "    @property\n",
    "    def chi(self):\n",
    "        return self._chi\n",
    "    \n",
    "    @chi.setter\n",
    "    def chi(self, n_yield):\n",
    "        self._chi = n_yield"
   ]
  },
  {
   "cell_type": "code",
   "execution_count": 157,
   "metadata": {
    "collapsed": false
   },
   "outputs": [],
   "source": [
    "fuel = Material(number_of_groups)\n",
    "reflector = Material(number_of_groups)"
   ]
  },
  {
   "cell_type": "code",
   "execution_count": 192,
   "metadata": {
    "collapsed": false
   },
   "outputs": [],
   "source": [
    "fuel.width = 154.\n",
    "fuel.transport = fuel_transport\n",
    "fuel.absorption = fuel_absorption\n",
    "fuel.fission = fuel_fission\n",
    "fuel.scattering = fuel_scattering\n",
    "fuel.chi = np.array([1., 0., 0., 0.])\n",
    "\n",
    "reflector.width = 10.\n",
    "reflector.transport = reflector_transport\n",
    "reflector.absorption = reflector_absorption\n",
    "reflector.fission = reflector_fission\n",
    "reflector.scattering = reflector_scattering\n",
    "reflector.chi = np.array([0, 0, 0, 0])"
   ]
  },
  {
   "cell_type": "code",
   "execution_count": 178,
   "metadata": {
    "collapsed": false
   },
   "outputs": [
    {
     "data": {
      "text/plain": [
       "array([ 0.,  1.,  2.])"
      ]
     },
     "execution_count": 178,
     "metadata": {},
     "output_type": "execute_result"
    }
   ],
   "source": [
    "np.arange(3.0)"
   ]
  },
  {
   "cell_type": "markdown",
   "metadata": {},
   "source": [
    "# Define the matrix for each group"
   ]
  },
  {
   "cell_type": "markdown",
   "metadata": {},
   "source": [
    "## Fuel matrix (all groups)"
   ]
  },
  {
   "cell_type": "code",
   "execution_count": 143,
   "metadata": {
    "code_folding": [
     0
    ],
    "collapsed": false
   },
   "outputs": [],
   "source": [
    "def matrices(fuel, reflector, fuel_nodes, reflector_nodes, num_groups):\n",
    "    n_fuel = fuel_nodes - 1\n",
    "    n_reflector = reflector_nodes - 1\n",
    "    nodes = n_fuel + n_reflector\n",
    "    \n",
    "    mats = np.zeros((num_groups, nodes, nodes))\n",
    "    \n",
    "    for g in range(num_groups):\n",
    "        mat = np.eye(n_fuel + n_reflector)\n",
    "        \n",
    "        d_fuel = 1 / (3 * fuel.transport[g])\n",
    "        dr_fuel = fuel.width / n_fuel\n",
    "        \n",
    "        d_ref = 1 / (3 * reflector.transport[g])\n",
    "        dr_ref = reflector.width / n_reflector\n",
    "        \n",
    "        # Set most of the nodes\n",
    "        for node in range(1, n_fuel + n_reflector - 1):\n",
    "            if node < fuel_nodes:\n",
    "                a = fuel.absorption[g]\n",
    "                d = d_fuel\n",
    "                dr = dr_fuel\n",
    "            else:\n",
    "                a = reflector.absorption[g]\n",
    "                d = d_ref\n",
    "                dr = dr_ref\n",
    "                \n",
    "            mat[node][node] = 2 * d / dr ** 2 + a\n",
    "            mat[node][node + 1] = -d / dr ** 2 * (1 + 1 / (2 * node - 1))\n",
    "            mat[node][node - 1] = -d / dr ** 2 * (1 - 1 / (2 * node - 1))\n",
    "        \n",
    "        # Boundary node\n",
    "        mat[n_fuel][n_fuel - 1] = -d_fuel / dr_fuel + d_fuel / (2 * fuel.width)\n",
    "        mat[n_fuel][n_fuel] = d_fuel / dr_fuel - d_fuel / (2 * fuel.width) +\\\n",
    "                                fuel.absorption[g] +\\\n",
    "                                d_ref / dr_ref + d_ref / fuel.width +\\\n",
    "                                reflector.absorption[g] * dr_ref / 2\n",
    "        mat[n_fuel][n_fuel + 1] = -d_ref / dr_ref + -d_ref / (2 * fuel.width)\n",
    "        \n",
    "        # Center node (0)\n",
    "        mat[0][0] = 0.5 * fuel.absorption[g] + d_fuel / dr_fuel ** 2\n",
    "        mat[0][1] = -d_fuel / dr_fuel ** 2 - d_fuel / (dr ** 2)\n",
    "        \n",
    "        # Final (non-zero) node\n",
    "        mat[-1][-2] = -d_ref / dr_ref ** 2 * (1 - 1 / (2 * (nodes + 1) - 1))\n",
    "        mat[-1][-1] = 2 * d_ref / dr_ref ** 2 + reflector.absorption[g]\n",
    "        \n",
    "        mats[g,:,:] = mat\n",
    "        \n",
    "    print mats"
   ]
  },
  {
   "cell_type": "code",
   "execution_count": 144,
   "metadata": {
    "collapsed": false
   },
   "outputs": [
    {
     "name": "stdout",
     "output_type": "stream",
     "text": [
      "[[[  2.514e-03  -1.317e-04   0.000e+00   0.000e+00   0.000e+00]\n",
      "  [ -0.000e+00   5.027e-03  -8.104e-05   0.000e+00   0.000e+00]\n",
      "  [  0.000e+00  -2.340e-03   6.239e-02  -3.676e-02   0.000e+00]\n",
      "  [  0.000e+00   0.000e+00  -4.911e-04   1.738e-03  -7.366e-04]\n",
      "  [  0.000e+00   0.000e+00   0.000e+00  -5.580e-04   1.738e-03]]\n",
      "\n",
      " [[  1.440e-03  -6.619e-05   0.000e+00   0.000e+00   0.000e+00]\n",
      "  [ -0.000e+00   2.881e-03  -4.073e-05   0.000e+00   0.000e+00]\n",
      "  [  0.000e+00  -1.176e-03   1.093e-01  -1.258e-02   0.000e+00]\n",
      "  [  0.000e+00   0.000e+00  -1.681e-04   3.960e-03  -2.521e-04]\n",
      "  [  0.000e+00   0.000e+00   0.000e+00  -1.910e-04   3.960e-03]]\n",
      "\n",
      " [[  1.528e-02  -3.848e-05   0.000e+00   0.000e+00   0.000e+00]\n",
      "  [ -0.000e+00   3.055e-02  -2.368e-05   0.000e+00   0.000e+00]\n",
      "  [  0.000e+00  -6.838e-04   4.522e-01  -1.333e-02   0.000e+00]\n",
      "  [  0.000e+00   0.000e+00  -1.781e-04   1.626e-02  -2.671e-04]\n",
      "  [  0.000e+00   0.000e+00   0.000e+00  -2.024e-04   1.626e-02]]\n",
      "\n",
      " [[  6.051e-02  -2.158e-05   0.000e+00   0.000e+00   0.000e+00]\n",
      "  [ -0.000e+00   1.210e-01  -1.328e-05   0.000e+00   0.000e+00]\n",
      "  [  0.000e+00  -3.834e-04   1.319e+00  -6.255e-03   0.000e+00]\n",
      "  [  0.000e+00   0.000e+00  -8.356e-05   4.658e-02  -1.253e-04]\n",
      "  [  0.000e+00   0.000e+00   0.000e+00  -9.495e-05   4.658e-02]]]\n"
     ]
    }
   ],
   "source": [
    "matrices(fuel, reflector, 3, 4, 4)"
   ]
  },
  {
   "cell_type": "code",
   "execution_count": 159,
   "metadata": {
    "collapsed": true
   },
   "outputs": [],
   "source": [
    "def inscatter(material, from_group, to_group):\n",
    "    return material.scattering[from_group][to_group]"
   ]
  },
  {
   "cell_type": "code",
   "execution_count": 200,
   "metadata": {
    "collapsed": true
   },
   "outputs": [],
   "source": [
    "def sources(fuel, reflector, fuel_nodes, reflector_nodes, flux, num_groups):\n",
    "    n_fuel = fuel_nodes - 1\n",
    "    n_reflector = reflector_nodes - 1\n",
    "    \n",
    "    nodes = n_fuel + n_reflector\n",
    "    \n",
    "    srcs = np.zeros((num_groups, nodes))\n",
    "    \n",
    "    for g in range(num_groups):\n",
    "        src = np.ones(nodes)\n",
    "        flx = flux[g,:]\n",
    "        \n",
    "        for i in range(nodes):\n",
    "            src[i] = 0\n",
    "            \n",
    "            if i < fuel_nodes:\n",
    "                scattering = fuel.scattering\n",
    "                chi = fuel.chi\n",
    "                nu = fuel.neutrons_per_fission\n",
    "                fission = fuel.fission\n",
    "                material = fuel\n",
    "            else:\n",
    "                scattering = reflector.scattering\n",
    "                chi = reflector.chi\n",
    "                nu = reflector.chi\n",
    "                fission = reflector.fission\n",
    "                material = reflector\n",
    "            \n",
    "            src[i] += flx[i] * chi[g] * fission[g]\n",
    "            for j in range(num_groups):\n",
    "                src[i] += inscatter(material, j, g) * flx[i]\n",
    "            \n",
    "        srcs[g,:] = src\n",
    "    print srcs\n",
    "    "
   ]
  },
  {
   "cell_type": "code",
   "execution_count": 202,
   "metadata": {
    "collapsed": false
   },
   "outputs": [
    {
     "name": "stdout",
     "output_type": "stream",
     "text": [
      "[[ 0.01   0.01   0.01   0.01   0.37   0.37 ]\n",
      " [ 0.083  0.083  0.083  0.083  1.024  1.024]\n",
      " [ 0.058  0.058  0.058  0.058  0.837  0.837]\n",
      " [ 0.065  0.065  0.065  0.065  2.298  2.298]]\n"
     ]
    }
   ],
   "source": [
    "num_groups = 4\n",
    "fluxes = np.ones((num_groups, 6))\n",
    "sources(fuel, reflector, 4, 4, flux, num_groups)"
   ]
  },
  {
   "cell_type": "markdown",
   "metadata": {},
   "source": [
    "# Start calculating flux for each group"
   ]
  },
  {
   "cell_type": "code",
   "execution_count": 180,
   "metadata": {
    "collapsed": true
   },
   "outputs": [],
   "source": [
    "def power(group, min_error=0.00001, max_iterations=1e5):\n",
    "    flux = fluxes[group - 1]\n",
    "    k_eff = 1.0\n",
    "    flux_old = np.ones(nodes-1) * 100.\n",
    "    k_eff_old = 1.0\n",
    "    \n",
    "    flux_error = 1.0\n",
    "    k_eff_error = 1.0\n",
    "    \n",
    "    iterations = 0\n",
    "    \n",
    "    source = np.ones_like(flux) * nusig\n",
    "    source[0] = source[0] * 0.5\n",
    "    \n",
    "    mat = matrix(nodes, width, absorption, transfer)\n",
    "    \n",
    "    while ((flux_error > min_error) or (k_eff_error > min_error)) and (iterations < max_iterations):\n",
    "        # iterate generations\n",
    "        iterations += 1\n",
    "        \n",
    "        flux = la.solve(mat, np.multiply(flux, source) / k_eff)\n",
    "        \n",
    "        # solve for eigenvalue\n",
    "        k_eff = k_eff_old * la.norm(np.multiply(flux, source)) / la.norm(np.multiply(flux_old, source))\n",
    "        \n",
    "        flux = flux / la.norm(flux)\n",
    "        \n",
    "        flux_error = np.amax(abs((np.multiply(flux, source) - np.multiply(flux_old, source)) / np.multiply(flux, source)))\n",
    "        k_eff_error = (abs((k_eff - k_eff_old) / k_eff))\n",
    "        \n",
    "        k_eff_old = k_eff\n",
    "        flux_old = flux\n",
    "        \n",
    "        if (iterations % 10000 == 0):\n",
    "            print flux_error\n",
    "    \n",
    "    return flux, k_eff, flux_error, k_eff_error, iterations"
   ]
  },
  {
   "cell_type": "code",
   "execution_count": 10,
   "metadata": {
    "collapsed": false
   },
   "outputs": [],
   "source": [
    "a = np.array(range(25)).reshape((5,5))\n",
    "z = np.zeros(5)"
   ]
  },
  {
   "cell_type": "code",
   "execution_count": 11,
   "metadata": {
    "collapsed": false
   },
   "outputs": [
    {
     "data": {
      "text/plain": [
       "array([[ 0,  1,  2,  3,  4],\n",
       "       [ 5,  6,  7,  8,  9],\n",
       "       [10, 11, 12, 13, 14],\n",
       "       [15, 16, 17, 18, 19],\n",
       "       [20, 21, 22, 23, 24]])"
      ]
     },
     "execution_count": 11,
     "metadata": {},
     "output_type": "execute_result"
    }
   ],
   "source": [
    "a"
   ]
  },
  {
   "cell_type": "code",
   "execution_count": 12,
   "metadata": {
    "collapsed": false
   },
   "outputs": [
    {
     "data": {
      "text/plain": [
       "array([ 0.,  0.,  0.,  0.,  0.])"
      ]
     },
     "execution_count": 12,
     "metadata": {},
     "output_type": "execute_result"
    }
   ],
   "source": [
    "z"
   ]
  },
  {
   "cell_type": "code",
   "execution_count": 23,
   "metadata": {
    "collapsed": false
   },
   "outputs": [],
   "source": [
    "for i in range(5):\n",
    "    a = np.vstack((a, z))"
   ]
  },
  {
   "cell_type": "code",
   "execution_count": 24,
   "metadata": {
    "collapsed": false
   },
   "outputs": [
    {
     "data": {
      "text/plain": [
       "array([[  0.,   1.,   2.,   3.,   4.],\n",
       "       [  5.,   6.,   7.,   8.,   9.],\n",
       "       [ 10.,  11.,  12.,  13.,  14.],\n",
       "       [ 15.,  16.,  17.,  18.,  19.],\n",
       "       [ 20.,  21.,  22.,  23.,  24.],\n",
       "       [  0.,   0.,   0.,   0.,   0.],\n",
       "       [  0.,   0.,   0.,   0.,   0.],\n",
       "       [  0.,   0.,   0.,   0.,   0.],\n",
       "       [  0.,   0.,   0.,   0.,   0.],\n",
       "       [  0.,   0.,   0.,   0.,   0.]])"
      ]
     },
     "execution_count": 24,
     "metadata": {},
     "output_type": "execute_result"
    }
   ],
   "source": [
    "a"
   ]
  },
  {
   "cell_type": "code",
   "execution_count": 30,
   "metadata": {
    "collapsed": false
   },
   "outputs": [
    {
     "data": {
      "text/plain": [
       "10"
      ]
     },
     "execution_count": 30,
     "metadata": {},
     "output_type": "execute_result"
    }
   ],
   "source": [
    "a.shape[0]"
   ]
  },
  {
   "cell_type": "code",
   "execution_count": 40,
   "metadata": {
    "collapsed": false
   },
   "outputs": [
    {
     "data": {
      "text/plain": [
       "array([[  0.,   1.,   2.,   3.,   4.,   0.],\n",
       "       [  5.,   6.,   7.,   8.,   9.,   0.],\n",
       "       [ 10.,  11.,  12.,  13.,  14.,   0.],\n",
       "       [ 15.,  16.,  17.,  18.,  19.,   0.],\n",
       "       [ 20.,  21.,  22.,  23.,  24.,   0.],\n",
       "       [  0.,   0.,   0.,   0.,   0.,   0.],\n",
       "       [  0.,   0.,   0.,   0.,   0.,   0.],\n",
       "       [  0.,   0.,   0.,   0.,   0.,   0.],\n",
       "       [  0.,   0.,   0.,   0.,   0.,   0.],\n",
       "       [  0.,   0.,   0.,   0.,   0.,   0.]])"
      ]
     },
     "execution_count": 40,
     "metadata": {},
     "output_type": "execute_result"
    }
   ],
   "source": [
    "np.hstack((a, np.zeros(a.shape[0]).reshape((a.shape[0], 1))))"
   ]
  },
  {
   "cell_type": "code",
   "execution_count": 39,
   "metadata": {
    "collapsed": false
   },
   "outputs": [
    {
     "data": {
      "text/plain": [
       "array([ 0.,  0.,  0.,  0.,  0.,  0.,  0.,  0.,  0.,  0.])"
      ]
     },
     "execution_count": 39,
     "metadata": {},
     "output_type": "execute_result"
    }
   ],
   "source": [
    "np.zeros(a.shape[0])"
   ]
  },
  {
   "cell_type": "code",
   "execution_count": 37,
   "metadata": {
    "collapsed": false
   },
   "outputs": [
    {
     "data": {
      "text/plain": [
       "[array([ 0.,  0.,  0.,  0.,  0.,  0.,  0.,  0.,  0.,  0.])]"
      ]
     },
     "execution_count": 37,
     "metadata": {},
     "output_type": "execute_result"
    }
   ],
   "source": [
    "[np.zeros(a.shape[0])]"
   ]
  },
  {
   "cell_type": "code",
   "execution_count": 41,
   "metadata": {
    "collapsed": false
   },
   "outputs": [
    {
     "data": {
      "text/plain": [
       "array([[  0.,   1.,   2.,   3.,   4.],\n",
       "       [  5.,   6.,   7.,   8.,   9.],\n",
       "       [ 10.,  11.,  12.,  13.,  14.],\n",
       "       [ 15.,  16.,  17.,  18.,  19.],\n",
       "       [ 20.,  21.,  22.,  23.,  24.],\n",
       "       [  0.,   0.,   0.,   0.,   0.],\n",
       "       [  0.,   0.,   0.,   0.,   0.],\n",
       "       [  0.,   0.,   0.,   0.,   0.],\n",
       "       [  0.,   0.,   0.,   0.,   0.],\n",
       "       [  0.,   0.,   0.,   0.,   0.]])"
      ]
     },
     "execution_count": 41,
     "metadata": {},
     "output_type": "execute_result"
    }
   ],
   "source": [
    "a"
   ]
  },
  {
   "cell_type": "code",
   "execution_count": 46,
   "metadata": {
    "collapsed": false
   },
   "outputs": [],
   "source": [
    "a = np.vsplit(a, 2)[0]"
   ]
  },
  {
   "cell_type": "code",
   "execution_count": 47,
   "metadata": {
    "collapsed": false
   },
   "outputs": [
    {
     "data": {
      "text/plain": [
       "array([[  0.,   1.,   2.,   3.,   4.],\n",
       "       [  5.,   6.,   7.,   8.,   9.],\n",
       "       [ 10.,  11.,  12.,  13.,  14.],\n",
       "       [ 15.,  16.,  17.,  18.,  19.],\n",
       "       [ 20.,  21.,  22.,  23.,  24.]])"
      ]
     },
     "execution_count": 47,
     "metadata": {},
     "output_type": "execute_result"
    }
   ],
   "source": [
    "a"
   ]
  },
  {
   "cell_type": "code",
   "execution_count": 52,
   "metadata": {
    "collapsed": false
   },
   "outputs": [],
   "source": [
    "z = np.array(range(36)).reshape((6,6))"
   ]
  },
  {
   "cell_type": "code",
   "execution_count": 53,
   "metadata": {
    "collapsed": false
   },
   "outputs": [
    {
     "data": {
      "text/plain": [
       "array([[ 0,  1,  2,  3,  4,  5],\n",
       "       [ 6,  7,  8,  9, 10, 11],\n",
       "       [12, 13, 14, 15, 16, 17],\n",
       "       [18, 19, 20, 21, 22, 23],\n",
       "       [24, 25, 26, 27, 28, 29],\n",
       "       [30, 31, 32, 33, 34, 35]])"
      ]
     },
     "execution_count": 53,
     "metadata": {},
     "output_type": "execute_result"
    }
   ],
   "source": [
    "z"
   ]
  },
  {
   "cell_type": "code",
   "execution_count": 54,
   "metadata": {
    "collapsed": false
   },
   "outputs": [
    {
     "data": {
      "text/plain": [
       "(5, 6)"
      ]
     },
     "execution_count": 54,
     "metadata": {},
     "output_type": "execute_result"
    }
   ],
   "source": [
    "np.zeros((a.shape[0], z.shape[1])).shape"
   ]
  },
  {
   "cell_type": "code",
   "execution_count": 55,
   "metadata": {
    "collapsed": false
   },
   "outputs": [
    {
     "data": {
      "text/plain": [
       "(6, 5)"
      ]
     },
     "execution_count": 55,
     "metadata": {},
     "output_type": "execute_result"
    }
   ],
   "source": [
    "np.zeros((z.shape[0], a.shape[1])).shape"
   ]
  },
  {
   "cell_type": "code",
   "execution_count": 57,
   "metadata": {
    "collapsed": false
   },
   "outputs": [
    {
     "data": {
      "text/plain": [
       "array([[  0.,   1.,   2.,   3.,   4.,   0.,   0.,   0.,   0.,   0.,   0.],\n",
       "       [  5.,   6.,   7.,   8.,   9.,   0.,   0.,   0.,   0.,   0.,   0.],\n",
       "       [ 10.,  11.,  12.,  13.,  14.,   0.,   0.,   0.,   0.,   0.,   0.],\n",
       "       [ 15.,  16.,  17.,  18.,  19.,   0.,   0.,   0.,   0.,   0.,   0.],\n",
       "       [ 20.,  21.,  22.,  23.,  24.,   0.,   0.,   0.,   0.,   0.,   0.],\n",
       "       [  0.,   0.,   0.,   0.,   0.,   0.,   1.,   2.,   3.,   4.,   5.],\n",
       "       [  0.,   0.,   0.,   0.,   0.,   6.,   7.,   8.,   9.,  10.,  11.],\n",
       "       [  0.,   0.,   0.,   0.,   0.,  12.,  13.,  14.,  15.,  16.,  17.],\n",
       "       [  0.,   0.,   0.,   0.,   0.,  18.,  19.,  20.,  21.,  22.,  23.],\n",
       "       [  0.,   0.,   0.,   0.,   0.,  24.,  25.,  26.,  27.,  28.,  29.],\n",
       "       [  0.,   0.,   0.,   0.,   0.,  30.,  31.,  32.,  33.,  34.,  35.]])"
      ]
     },
     "execution_count": 57,
     "metadata": {},
     "output_type": "execute_result"
    }
   ],
   "source": [
    "t_left = np.vstack((a, np.zeros((z.shape[0], a.shape[1]))))\n",
    "t_right = np.vstack((np.zeros((a.shape[0], z.shape[1])), z))\n",
    "m = np.hstack((t_left, t_right))\n",
    "m"
   ]
  },
  {
   "cell_type": "code",
   "execution_count": null,
   "metadata": {
    "collapsed": true
   },
   "outputs": [],
   "source": []
  }
 ],
 "metadata": {
  "anaconda-cloud": {},
  "kernelspec": {
   "display_name": "Python [conda env:nuc]",
   "language": "python",
   "name": "conda-env-nuc-py"
  },
  "language_info": {
   "codemirror_mode": {
    "name": "ipython",
    "version": 2
   },
   "file_extension": ".py",
   "mimetype": "text/x-python",
   "name": "python",
   "nbconvert_exporter": "python",
   "pygments_lexer": "ipython2",
   "version": "2.7.12"
  },
  "latex_envs": {
   "bibliofile": "biblio.bib",
   "cite_by": "apalike",
   "current_citInitial": 1,
   "eqLabelWithNumbers": true,
   "eqNumInitial": 0
  }
 },
 "nbformat": 4,
 "nbformat_minor": 1
}
