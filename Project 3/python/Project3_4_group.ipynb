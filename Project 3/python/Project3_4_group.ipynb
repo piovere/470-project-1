{
 "cells": [
  {
   "cell_type": "code",
   "execution_count": 1,
   "metadata": {
    "collapsed": true
   },
   "outputs": [],
   "source": [
    "%matplotlib inline\n",
    "import matplotlib.pyplot as plt\n",
    "import numpy as np\n",
    "import numpy.linalg as la\n",
    "import pandas as pd\n",
    "from __future__ import division"
   ]
  },
  {
   "cell_type": "markdown",
   "metadata": {},
   "source": [
    "# Define properties"
   ]
  },
  {
   "cell_type": "code",
   "execution_count": 2,
   "metadata": {
    "collapsed": true
   },
   "outputs": [],
   "source": [
    "number_of_groups = 4\n",
    "width = 154\n",
    "nodes = 10"
   ]
  },
  {
   "cell_type": "code",
   "execution_count": 3,
   "metadata": {
    "collapsed": false
   },
   "outputs": [],
   "source": [
    "# Cross sections ordered from lowest energy to highest energy\n",
    "\n",
    "# fission is actually fission * neutrons per fission\n",
    "fuel_fission = np.array([\n",
    "        0.009572,\n",
    "        0.001193,\n",
    "        0.01768,\n",
    "        0.18514\n",
    "    ])\n",
    "\n",
    "fuel_transport = np.array([\n",
    "        1.38741155,\n",
    "        2.76065151,\n",
    "        4.74833808,\n",
    "        8.46740051\n",
    "    ])\n",
    "\n",
    "fuel_scattering = np.array([\n",
    "        [0, 0.083004, 0,      0      ],\n",
    "        [0, 0,        0.0584, 0      ],\n",
    "        [0, 0,        0,      0.06453],\n",
    "        [0, 0,        0,      0      ]\n",
    "    ])\n",
    "\n",
    "fuel_absorption = np.array([\n",
    "        0.004946,\n",
    "        0.002840,\n",
    "        0.03053,\n",
    "        0.1210\n",
    "    ])\n",
    "\n",
    "fuel_removal = np.array([\n",
    "        0.08795,\n",
    "        0.06124,\n",
    "        0.09506,\n",
    "        0.1210\n",
    "    ])\n",
    "\n",
    "# Not a cross section. 1 / (3 sigma_tr)\n",
    "fuel_diffusion = np.array([\n",
    "        2.1623,\n",
    "        1.0867,\n",
    "        0.6318,\n",
    "        0.3543\n",
    "    ])\n",
    "\n",
    "# Fraction of fission neutrons born into each group\n",
    "fuel_chi = np.array([\n",
    "        1.,\n",
    "        0.,\n",
    "        0.,\n",
    "        0.\n",
    "    ])"
   ]
  },
  {
   "cell_type": "code",
   "execution_count": 4,
   "metadata": {
    "collapsed": false
   },
   "outputs": [
    {
     "data": {
      "text/plain": [
       "array([ 0.083004,  0.0584  ,  0.06453 ,  0.      ])"
      ]
     },
     "execution_count": 4,
     "metadata": {},
     "output_type": "execute_result"
    }
   ],
   "source": [
    "fuel_removal - fuel_absorption"
   ]
  },
  {
   "cell_type": "code",
   "execution_count": 5,
   "metadata": {
    "collapsed": false
   },
   "outputs": [
    {
     "data": {
      "text/plain": [
       "array([ 1.38741155,  2.76065151,  4.74833808,  8.46740051])"
      ]
     },
     "execution_count": 5,
     "metadata": {},
     "output_type": "execute_result"
    }
   ],
   "source": [
    "3 / fuel_diffusion"
   ]
  },
  {
   "cell_type": "code",
   "execution_count": 6,
   "metadata": {
    "collapsed": true
   },
   "outputs": [],
   "source": [
    "# Reflector properties\n",
    "\n",
    "reflector_fission = np.array([\n",
    "        0, 0, 0, 0\n",
    "    ])\n",
    "\n",
    "reflector_transport = np.array([\n",
    "        0.20608,\n",
    "        0.60215,\n",
    "        0.56830,\n",
    "        1.21110\n",
    "    ])\n",
    "\n",
    "reflector_absorption = np.array([\n",
    "        0.00051,\n",
    "        0.00354,\n",
    "        0.01581,\n",
    "        0.04637\n",
    "    ])\n",
    "\n",
    "reflector_scattering = np.array([\n",
    "        [0.37045, 0.04152, 0.00001, 0.00000],\n",
    "        [0.00000, 0.98285, 0.07459, 0.01371],\n",
    "        [0.00000, 0.00000, 0.76110, 0.31856],\n",
    "        [0.00000, 0.00000, 0.00085, 1.96607]\n",
    "    ])\n",
    "\n",
    "reflector_diffusion = 1 / (3 * reflector_transport)"
   ]
  },
  {
   "cell_type": "code",
   "execution_count": 7,
   "metadata": {
    "collapsed": false
   },
   "outputs": [
    {
     "data": {
      "text/plain": [
       "array([ 1.61749482,  0.55357192,  0.58654467,  0.27523188])"
      ]
     },
     "execution_count": 7,
     "metadata": {},
     "output_type": "execute_result"
    }
   ],
   "source": [
    "reflector_diffusion"
   ]
  },
  {
   "cell_type": "markdown",
   "metadata": {},
   "source": [
    "# Define the matrix for each group"
   ]
  },
  {
   "cell_type": "markdown",
   "metadata": {},
   "source": [
    "## Fuel matrix (all groups)"
   ]
  },
  {
   "cell_type": "code",
   "execution_count": 65,
   "metadata": {
    "collapsed": false
   },
   "outputs": [],
   "source": [
    "def fuel_matrices(radius, nodes, sigma_a, sigma_f, neutrons_per_fission, num_groups, sigma_tr=None, diffusion=None):\n",
    "    # Placeholder\n",
    "    mats = np.zeros((nodes - 1, nodes - 1, num_groups))\n",
    "    if diffusion is None:\n",
    "        diffusion = 1 / (3 * sigma_tr)\n",
    "        \n",
    "    delta_r = radius / (nodes - 1)\n",
    "    \n",
    "    for group in range(num_groups):\n",
    "        tmp = mats[:,:,group]\n",
    "        \n",
    "        fission = sigma_f[group]\n",
    "        absorption = sigma_a[group]\n",
    "        diff = diffusion[group]\n",
    "        \n",
    "        diag = np.ones(tmp.shape[0]) * (2 * diff / delta_r ** 2 + absorption)\n",
    "        diag[0] = 2 * diff / delta_r ** 2 + absorption / 2\n",
    "\n",
    "        # Define our upper diagonal elements\n",
    "        upper_diag = np.zeros(tmp.shape[0] - 1)\n",
    "        for i in range(upper_diag.shape[0]):\n",
    "            upper_diag[i] = -diff / delta_r ** 2 * (1 + 1 / (2 * i - 1))\n",
    "        upper_diag[0] = -2 * diff / delta_r ** 2\n",
    "        \n",
    "        # Define our lower diagonal elements\n",
    "        lower_diag = np.zeros(tmp.shape[0] - 1)\n",
    "        for i in range(lower_diag.shape[0]):\n",
    "            lower_diag[i] = -diff / delta_r ** 2 * (1 - 1 / (2 * i - 1))\n",
    "        lower_diag[tmp.shape[0] - 2] = -diff / delta_r + diff / (2 * radius)\n",
    "        \n",
    "        tmp = tmp + np.diagflat(diag) + np.diagflat(upper_diag, 1) + np.diagflat(lower_diag, -1)\n",
    "        \n",
    "        mats[:,:,group] = tmp\n",
    "    \n",
    "    # for mat_index in range(mats.shape[2]):\n",
    "    #     print mats[:,:,mat_index]\n",
    "    \n",
    "    return mats"
   ]
  },
  {
   "cell_type": "code",
   "execution_count": 71,
   "metadata": {
    "collapsed": false
   },
   "outputs": [
    {
     "data": {
      "text/plain": [
       "array([[ 4.368575  , -4.3246    ,  0.        ,  0.        ,  0.        ],\n",
       "       [-4.3246    ,  4.41255   , -4.3246    ,  0.        ,  0.        ],\n",
       "       [ 0.        ,  0.        ,  4.41255   , -2.88306667,  0.        ],\n",
       "       [ 0.        ,  0.        , -1.44153333,  4.41255   , -2.59476   ],\n",
       "       [ 0.        ,  0.        ,  0.        , -1.94607   ,  4.41255   ]])"
      ]
     },
     "execution_count": 71,
     "metadata": {},
     "output_type": "execute_result"
    }
   ],
   "source": [
    "fuel_matrices(5, 6, fuel_removal, fuel_fission, 2.43 * fuel_chi, number_of_groups, diffusion=fuel_diffusion)[:,:,0]"
   ]
  },
  {
   "cell_type": "markdown",
   "metadata": {},
   "source": [
    "## Reflector matrix (all groups)"
   ]
  },
  {
   "cell_type": "code",
   "execution_count": null,
   "metadata": {
    "collapsed": true
   },
   "outputs": [],
   "source": [
    "def reflector_matrices(\n",
    "    width,\n",
    "    nodes,\n",
    "    sigma_a,\n",
    "    num_groups,\n",
    "    sigma_tr=None,\n",
    "    diffusion=None,\n",
    "    fuel_tr=None,\n",
    "    fuel_diffusion=None,\n",
    "    fuel_width=None\n",
    "):\n",
    "    # Placeholder\n",
    "    mats = np.zeros(nodes - 1, nodes - 1, num_groups)\n",
    "    \n",
    "    delta_r = width / (nodes - 1)\n",
    "    \n",
    "    if diffusion is None:\n",
    "        diffusion = 1 / (3 * sigma_tr)\n",
    "    if fuel_diffusion is None:\n",
    "        fuel_diffusion = 1 / (3 * fuel_tr)\n",
    "    if fuel_width is None:\n",
    "        raise Exception(\"You must provide a fuel width\")\n",
    "    \n",
    "    for group in num_groups:\n",
    "        tmp = mats[:,:,group]\n",
    "        \n",
    "        absorption = sigma_a[group]\n",
    "        diff = diffusion[group]\n",
    "        fd = fuel_diffusion[group]\n",
    "        \n",
    "        diag = np.ones(tmp.shape[0]) * (2 * diff / delta_r ** 2 + absorption)\n",
    "        diag[0] = fd / delta_r - fd / (2 * fuel_width)  \n",
    "        "
   ]
  },
  {
   "cell_type": "markdown",
   "metadata": {},
   "source": [
    "# Start calculating flux for each group"
   ]
  },
  {
   "cell_type": "code",
   "execution_count": null,
   "metadata": {
    "collapsed": true
   },
   "outputs": [],
   "source": [
    "fluxes = []\n",
    "for g in number_of_groups:\n",
    "    flux = np.ones(nodes - 1)\n",
    "    fluxes.append(flux)"
   ]
  },
  {
   "cell_type": "code",
   "execution_count": null,
   "metadata": {
    "collapsed": true
   },
   "outputs": [],
   "source": [
    "def power(group, min_error=0.00001, max_iterations=1e5):\n",
    "    flux = fluxes[group - 1]\n",
    "    k_eff = 1.0\n",
    "    flux_old = np.ones(nodes-1) * 100.\n",
    "    k_eff_old = 1.0\n",
    "    \n",
    "    flux_error = 1.0\n",
    "    k_eff_error = 1.0\n",
    "    \n",
    "    iterations = 0\n",
    "    \n",
    "    source = np.ones_like(flux) * nusig\n",
    "    source[0] = source[0] * 0.5\n",
    "    \n",
    "    mat = matrix(nodes, width, absorption, transfer)\n",
    "    \n",
    "    while ((flux_error > min_error) or (k_eff_error > min_error)) and (iterations < max_iterations):\n",
    "        # iterate generations\n",
    "        iterations += 1\n",
    "        \n",
    "        flux = la.solve(mat, np.multiply(flux, source) / k_eff)\n",
    "        \n",
    "        # solve for eigenvalue\n",
    "        k_eff = k_eff_old * la.norm(np.multiply(flux, source)) / la.norm(np.multiply(flux_old, source))\n",
    "        \n",
    "        flux = flux / la.norm(flux)\n",
    "        \n",
    "        flux_error = np.amax(abs((np.multiply(flux, source) - np.multiply(flux_old, source)) / np.multiply(flux, source)))\n",
    "        k_eff_error = (abs((k_eff - k_eff_old) / k_eff))\n",
    "        \n",
    "        k_eff_old = k_eff\n",
    "        flux_old = flux\n",
    "        \n",
    "        if (iterations % 10000 == 0):\n",
    "            print flux_error\n",
    "    \n",
    "    return flux, k_eff, flux_error, k_eff_error, iterations"
   ]
  },
  {
   "cell_type": "code",
   "execution_count": 10,
   "metadata": {
    "collapsed": false
   },
   "outputs": [],
   "source": [
    "a = np.array(range(25)).reshape((5,5))\n",
    "z = np.zeros(5)"
   ]
  },
  {
   "cell_type": "code",
   "execution_count": 11,
   "metadata": {
    "collapsed": false
   },
   "outputs": [
    {
     "data": {
      "text/plain": [
       "array([[ 0,  1,  2,  3,  4],\n",
       "       [ 5,  6,  7,  8,  9],\n",
       "       [10, 11, 12, 13, 14],\n",
       "       [15, 16, 17, 18, 19],\n",
       "       [20, 21, 22, 23, 24]])"
      ]
     },
     "execution_count": 11,
     "metadata": {},
     "output_type": "execute_result"
    }
   ],
   "source": [
    "a"
   ]
  },
  {
   "cell_type": "code",
   "execution_count": 12,
   "metadata": {
    "collapsed": false
   },
   "outputs": [
    {
     "data": {
      "text/plain": [
       "array([ 0.,  0.,  0.,  0.,  0.])"
      ]
     },
     "execution_count": 12,
     "metadata": {},
     "output_type": "execute_result"
    }
   ],
   "source": [
    "z"
   ]
  },
  {
   "cell_type": "code",
   "execution_count": 23,
   "metadata": {
    "collapsed": false
   },
   "outputs": [],
   "source": [
    "for i in range(5):\n",
    "    a = np.vstack((a, z))"
   ]
  },
  {
   "cell_type": "code",
   "execution_count": 24,
   "metadata": {
    "collapsed": false
   },
   "outputs": [
    {
     "data": {
      "text/plain": [
       "array([[  0.,   1.,   2.,   3.,   4.],\n",
       "       [  5.,   6.,   7.,   8.,   9.],\n",
       "       [ 10.,  11.,  12.,  13.,  14.],\n",
       "       [ 15.,  16.,  17.,  18.,  19.],\n",
       "       [ 20.,  21.,  22.,  23.,  24.],\n",
       "       [  0.,   0.,   0.,   0.,   0.],\n",
       "       [  0.,   0.,   0.,   0.,   0.],\n",
       "       [  0.,   0.,   0.,   0.,   0.],\n",
       "       [  0.,   0.,   0.,   0.,   0.],\n",
       "       [  0.,   0.,   0.,   0.,   0.]])"
      ]
     },
     "execution_count": 24,
     "metadata": {},
     "output_type": "execute_result"
    }
   ],
   "source": [
    "a"
   ]
  },
  {
   "cell_type": "code",
   "execution_count": 30,
   "metadata": {
    "collapsed": false
   },
   "outputs": [
    {
     "data": {
      "text/plain": [
       "10"
      ]
     },
     "execution_count": 30,
     "metadata": {},
     "output_type": "execute_result"
    }
   ],
   "source": [
    "a.shape[0]"
   ]
  },
  {
   "cell_type": "code",
   "execution_count": 40,
   "metadata": {
    "collapsed": false
   },
   "outputs": [
    {
     "data": {
      "text/plain": [
       "array([[  0.,   1.,   2.,   3.,   4.,   0.],\n",
       "       [  5.,   6.,   7.,   8.,   9.,   0.],\n",
       "       [ 10.,  11.,  12.,  13.,  14.,   0.],\n",
       "       [ 15.,  16.,  17.,  18.,  19.,   0.],\n",
       "       [ 20.,  21.,  22.,  23.,  24.,   0.],\n",
       "       [  0.,   0.,   0.,   0.,   0.,   0.],\n",
       "       [  0.,   0.,   0.,   0.,   0.,   0.],\n",
       "       [  0.,   0.,   0.,   0.,   0.,   0.],\n",
       "       [  0.,   0.,   0.,   0.,   0.,   0.],\n",
       "       [  0.,   0.,   0.,   0.,   0.,   0.]])"
      ]
     },
     "execution_count": 40,
     "metadata": {},
     "output_type": "execute_result"
    }
   ],
   "source": [
    "np.hstack((a, np.zeros(a.shape[0]).reshape((a.shape[0], 1))))"
   ]
  },
  {
   "cell_type": "code",
   "execution_count": 39,
   "metadata": {
    "collapsed": false
   },
   "outputs": [
    {
     "data": {
      "text/plain": [
       "array([ 0.,  0.,  0.,  0.,  0.,  0.,  0.,  0.,  0.,  0.])"
      ]
     },
     "execution_count": 39,
     "metadata": {},
     "output_type": "execute_result"
    }
   ],
   "source": [
    "np.zeros(a.shape[0])"
   ]
  },
  {
   "cell_type": "code",
   "execution_count": 37,
   "metadata": {
    "collapsed": false
   },
   "outputs": [
    {
     "data": {
      "text/plain": [
       "[array([ 0.,  0.,  0.,  0.,  0.,  0.,  0.,  0.,  0.,  0.])]"
      ]
     },
     "execution_count": 37,
     "metadata": {},
     "output_type": "execute_result"
    }
   ],
   "source": [
    "[np.zeros(a.shape[0])]"
   ]
  },
  {
   "cell_type": "code",
   "execution_count": 41,
   "metadata": {
    "collapsed": false
   },
   "outputs": [
    {
     "data": {
      "text/plain": [
       "array([[  0.,   1.,   2.,   3.,   4.],\n",
       "       [  5.,   6.,   7.,   8.,   9.],\n",
       "       [ 10.,  11.,  12.,  13.,  14.],\n",
       "       [ 15.,  16.,  17.,  18.,  19.],\n",
       "       [ 20.,  21.,  22.,  23.,  24.],\n",
       "       [  0.,   0.,   0.,   0.,   0.],\n",
       "       [  0.,   0.,   0.,   0.,   0.],\n",
       "       [  0.,   0.,   0.,   0.,   0.],\n",
       "       [  0.,   0.,   0.,   0.,   0.],\n",
       "       [  0.,   0.,   0.,   0.,   0.]])"
      ]
     },
     "execution_count": 41,
     "metadata": {},
     "output_type": "execute_result"
    }
   ],
   "source": [
    "a"
   ]
  },
  {
   "cell_type": "code",
   "execution_count": 46,
   "metadata": {
    "collapsed": false
   },
   "outputs": [],
   "source": [
    "a = np.vsplit(a, 2)[0]"
   ]
  },
  {
   "cell_type": "code",
   "execution_count": 47,
   "metadata": {
    "collapsed": false
   },
   "outputs": [
    {
     "data": {
      "text/plain": [
       "array([[  0.,   1.,   2.,   3.,   4.],\n",
       "       [  5.,   6.,   7.,   8.,   9.],\n",
       "       [ 10.,  11.,  12.,  13.,  14.],\n",
       "       [ 15.,  16.,  17.,  18.,  19.],\n",
       "       [ 20.,  21.,  22.,  23.,  24.]])"
      ]
     },
     "execution_count": 47,
     "metadata": {},
     "output_type": "execute_result"
    }
   ],
   "source": [
    "a"
   ]
  },
  {
   "cell_type": "code",
   "execution_count": 52,
   "metadata": {
    "collapsed": false
   },
   "outputs": [],
   "source": [
    "z = np.array(range(36)).reshape((6,6))"
   ]
  },
  {
   "cell_type": "code",
   "execution_count": 53,
   "metadata": {
    "collapsed": false
   },
   "outputs": [
    {
     "data": {
      "text/plain": [
       "array([[ 0,  1,  2,  3,  4,  5],\n",
       "       [ 6,  7,  8,  9, 10, 11],\n",
       "       [12, 13, 14, 15, 16, 17],\n",
       "       [18, 19, 20, 21, 22, 23],\n",
       "       [24, 25, 26, 27, 28, 29],\n",
       "       [30, 31, 32, 33, 34, 35]])"
      ]
     },
     "execution_count": 53,
     "metadata": {},
     "output_type": "execute_result"
    }
   ],
   "source": [
    "z"
   ]
  },
  {
   "cell_type": "code",
   "execution_count": 54,
   "metadata": {
    "collapsed": false
   },
   "outputs": [
    {
     "data": {
      "text/plain": [
       "(5, 6)"
      ]
     },
     "execution_count": 54,
     "metadata": {},
     "output_type": "execute_result"
    }
   ],
   "source": [
    "np.zeros((a.shape[0], z.shape[1])).shape"
   ]
  },
  {
   "cell_type": "code",
   "execution_count": 55,
   "metadata": {
    "collapsed": false
   },
   "outputs": [
    {
     "data": {
      "text/plain": [
       "(6, 5)"
      ]
     },
     "execution_count": 55,
     "metadata": {},
     "output_type": "execute_result"
    }
   ],
   "source": [
    "np.zeros((z.shape[0], a.shape[1])).shape"
   ]
  },
  {
   "cell_type": "code",
   "execution_count": 57,
   "metadata": {
    "collapsed": false
   },
   "outputs": [
    {
     "data": {
      "text/plain": [
       "array([[  0.,   1.,   2.,   3.,   4.,   0.,   0.,   0.,   0.,   0.,   0.],\n",
       "       [  5.,   6.,   7.,   8.,   9.,   0.,   0.,   0.,   0.,   0.,   0.],\n",
       "       [ 10.,  11.,  12.,  13.,  14.,   0.,   0.,   0.,   0.,   0.,   0.],\n",
       "       [ 15.,  16.,  17.,  18.,  19.,   0.,   0.,   0.,   0.,   0.,   0.],\n",
       "       [ 20.,  21.,  22.,  23.,  24.,   0.,   0.,   0.,   0.,   0.,   0.],\n",
       "       [  0.,   0.,   0.,   0.,   0.,   0.,   1.,   2.,   3.,   4.,   5.],\n",
       "       [  0.,   0.,   0.,   0.,   0.,   6.,   7.,   8.,   9.,  10.,  11.],\n",
       "       [  0.,   0.,   0.,   0.,   0.,  12.,  13.,  14.,  15.,  16.,  17.],\n",
       "       [  0.,   0.,   0.,   0.,   0.,  18.,  19.,  20.,  21.,  22.,  23.],\n",
       "       [  0.,   0.,   0.,   0.,   0.,  24.,  25.,  26.,  27.,  28.,  29.],\n",
       "       [  0.,   0.,   0.,   0.,   0.,  30.,  31.,  32.,  33.,  34.,  35.]])"
      ]
     },
     "execution_count": 57,
     "metadata": {},
     "output_type": "execute_result"
    }
   ],
   "source": [
    "t_left = np.vstack((a, np.zeros((z.shape[0], a.shape[1]))))\n",
    "t_right = np.vstack((np.zeros((a.shape[0], z.shape[1])), z))\n",
    "m = np.hstack((t_left, t_right))\n",
    "m"
   ]
  },
  {
   "cell_type": "code",
   "execution_count": null,
   "metadata": {
    "collapsed": true
   },
   "outputs": [],
   "source": []
  }
 ],
 "metadata": {
  "anaconda-cloud": {},
  "kernelspec": {
   "display_name": "Python [conda env:nuc]",
   "language": "python",
   "name": "conda-env-nuc-py"
  },
  "language_info": {
   "codemirror_mode": {
    "name": "ipython",
    "version": 2
   },
   "file_extension": ".py",
   "mimetype": "text/x-python",
   "name": "python",
   "nbconvert_exporter": "python",
   "pygments_lexer": "ipython2",
   "version": "2.7.12"
  }
 },
 "nbformat": 4,
 "nbformat_minor": 1
}
