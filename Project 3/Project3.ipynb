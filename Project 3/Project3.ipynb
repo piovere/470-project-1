{
 "cells": [
  {
   "cell_type": "code",
   "execution_count": 1,
   "metadata": {
    "collapsed": true
   },
   "outputs": [],
   "source": [
    "import numpy as np\n",
    "import numpy.linalg as la\n",
    "from __future__ import division"
   ]
  },
  {
   "cell_type": "code",
   "execution_count": 2,
   "metadata": {
    "collapsed": false
   },
   "outputs": [],
   "source": [
    "%matplotlib inline\n",
    "import matplotlib.pyplot as plt"
   ]
  },
  {
   "cell_type": "markdown",
   "metadata": {},
   "source": [
    "$\\Sigma_a$"
   ]
  },
  {
   "cell_type": "code",
   "execution_count": 3,
   "metadata": {
    "collapsed": true
   },
   "outputs": [],
   "source": [
    "sigma_a = 0.15"
   ]
  },
  {
   "cell_type": "markdown",
   "metadata": {},
   "source": [
    "$\\Sigma_{tr}$"
   ]
  },
  {
   "cell_type": "code",
   "execution_count": 4,
   "metadata": {
    "collapsed": true
   },
   "outputs": [],
   "source": [
    "sigma_tr = 0.15"
   ]
  },
  {
   "cell_type": "markdown",
   "metadata": {},
   "source": [
    "$\\Sigma_f$"
   ]
  },
  {
   "cell_type": "code",
   "execution_count": 5,
   "metadata": {
    "collapsed": true
   },
   "outputs": [],
   "source": [
    "sigma_f = 0.15"
   ]
  },
  {
   "cell_type": "markdown",
   "metadata": {},
   "source": [
    "$n$, number of nodes"
   ]
  },
  {
   "cell_type": "code",
   "execution_count": 6,
   "metadata": {
    "collapsed": true
   },
   "outputs": [],
   "source": [
    "nodes = 4"
   ]
  },
  {
   "cell_type": "markdown",
   "metadata": {},
   "source": [
    "$w$, width"
   ]
  },
  {
   "cell_type": "code",
   "execution_count": 7,
   "metadata": {
    "collapsed": true
   },
   "outputs": [],
   "source": [
    "width = 10"
   ]
  },
  {
   "cell_type": "markdown",
   "metadata": {},
   "source": [
    "$\\nu$, the average number of neutrons per fission"
   ]
  },
  {
   "cell_type": "code",
   "execution_count": 8,
   "metadata": {
    "collapsed": true
   },
   "outputs": [],
   "source": [
    "neutrons_per_fission = 2.43"
   ]
  },
  {
   "cell_type": "code",
   "execution_count": 10,
   "metadata": {
    "collapsed": true
   },
   "outputs": [],
   "source": [
    "def cylinder_matrix(nodes, width, sigma_a, sigma_tr):\n",
    "    # we don't calculate the boundaries; those are given\n",
    "    n = nodes - 1\n",
    "    \n",
    "    # Calculate delta_x\n",
    "    dx = width / n\n",
    "    \n",
    "    # Calculate z_0\n",
    "    z_0 = 0.707 * (1 + w)\n",
    "    raise ValueError # You know that's not right\n",
    "    \n",
    "    # Calculate our diagonal and off-diagonal terms once\n",
    "    diag = 1.0\n",
    "    raise ValueError # Fill in the right value!\n",
    "    \n",
    "    offdiag = 1.0\n",
    "    raise ValueError # Fill in the right value!\n",
    "    \n",
    "    # Compose the symmetric tridiagonal matrix\n",
    "    # Probably some room for optimization\n",
    "    a = np.ones(n) * diag\n",
    "    \n",
    "    # Fix the corner terms\n",
    "    \n",
    "    # Return the matrix\n",
    "    return a"
   ]
  },
  {
   "cell_type": "code",
   "execution_count": 11,
   "metadata": {
    "collapsed": true
   },
   "outputs": [],
   "source": [
    "# Seed initial guess for flux, b\n",
    "b = np.ones(nodes - 1)"
   ]
  },
  {
   "cell_type": "code",
   "execution_count": 1,
   "metadata": {
    "collapsed": true
   },
   "outputs": [],
   "source": [
    "def flux(nodes, width, sigma_a, sigma_f, sigma_tr, e_max=0.001, max_iterations=1e5):\n",
    "    D = 1. / (3. * sigma_tr)\n",
    "    A, S = set_matrix(nodes=nodes, w=width, D=D, sigma_a=sigma_a)\n",
    "    b = np.ones_like(S) * 0.01\n",
    "    \n",
    "    k_error = 100\n",
    "    b_error = 100\n",
    "    \n",
    "    num_iterations = 0\n",
    "    \n",
    "    k = 1.0\n",
    "    \n",
    "    while k_error > e_max or b_error > e_max and num_iterations < max_iterations:\n",
    "        b = (np.multiply(b, S) / k) / la.norm(np.multiply(b, S) / k)\n",
    "\n",
    "        b_old = b\n",
    "        k_old = k\n",
    "\n",
    "        b = la.solve(A, b)\n",
    "\n",
    "        m = la.norm(b)\n",
    "        m_old = la.norm(b_old)\n",
    "        \n",
    "        k = m / m_old\n",
    "\n",
    "        k_error = (k - k_old) / k\n",
    "\n",
    "        b_error = np.linalg.norm(b - b_old) / (nodes - 1)\n",
    "\n",
    "        num_iterations += 1\n",
    "        \n",
    "        #print num_iterations, b, k\n",
    "    return np.append(b, 0), k"
   ]
  },
  {
   "cell_type": "code",
   "execution_count": null,
   "metadata": {
    "collapsed": true
   },
   "outputs": [],
   "source": []
  }
 ],
 "metadata": {
  "anaconda-cloud": {},
  "kernelspec": {
   "display_name": "Python [conda env:nuc]",
   "language": "python",
   "name": "conda-env-nuc-py"
  },
  "language_info": {
   "codemirror_mode": {
    "name": "ipython",
    "version": 2
   },
   "file_extension": ".py",
   "mimetype": "text/x-python",
   "name": "python",
   "nbconvert_exporter": "python",
   "pygments_lexer": "ipython2",
   "version": "2.7.12"
  }
 },
 "nbformat": 4,
 "nbformat_minor": 1
}
